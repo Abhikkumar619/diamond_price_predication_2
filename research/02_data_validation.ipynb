{
 "cells": [
  {
   "cell_type": "code",
   "execution_count": 1,
   "metadata": {},
   "outputs": [],
   "source": [
    "import os"
   ]
  },
  {
   "cell_type": "code",
   "execution_count": 2,
   "metadata": {},
   "outputs": [
    {
     "data": {
      "text/plain": [
       "'c:\\\\TheBritishCollege\\\\DataScience\\\\diamond_price_predication_2\\\\research'"
      ]
     },
     "execution_count": 2,
     "metadata": {},
     "output_type": "execute_result"
    }
   ],
   "source": [
    "os.getcwd()"
   ]
  },
  {
   "cell_type": "code",
   "execution_count": 3,
   "metadata": {},
   "outputs": [],
   "source": [
    "os.chdir(\"../\")"
   ]
  },
  {
   "cell_type": "code",
   "execution_count": 4,
   "metadata": {},
   "outputs": [
    {
     "data": {
      "text/plain": [
       "'c:\\\\TheBritishCollege\\\\DataScience\\\\diamond_price_predication_2'"
      ]
     },
     "execution_count": 4,
     "metadata": {},
     "output_type": "execute_result"
    }
   ],
   "source": [
    "os.getcwd()"
   ]
  },
  {
   "cell_type": "code",
   "execution_count": 5,
   "metadata": {},
   "outputs": [],
   "source": [
    "import pandas as pd\n",
    "data=pd.read_csv(\"artifacts\\data_ingestion\\diamond_data.csv\")"
   ]
  },
  {
   "cell_type": "code",
   "execution_count": 6,
   "metadata": {},
   "outputs": [
    {
     "name": "stdout",
     "output_type": "stream",
     "text": [
      "<class 'pandas.core.frame.DataFrame'>\n",
      "RangeIndex: 193573 entries, 0 to 193572\n",
      "Data columns (total 11 columns):\n",
      " #   Column   Non-Null Count   Dtype  \n",
      "---  ------   --------------   -----  \n",
      " 0   id       193573 non-null  int64  \n",
      " 1   carat    193573 non-null  float64\n",
      " 2   cut      193573 non-null  object \n",
      " 3   color    193573 non-null  object \n",
      " 4   clarity  193573 non-null  object \n",
      " 5   depth    193573 non-null  float64\n",
      " 6   table    193573 non-null  float64\n",
      " 7   x        193573 non-null  float64\n",
      " 8   y        193573 non-null  float64\n",
      " 9   z        193573 non-null  float64\n",
      " 10  price    193573 non-null  int64  \n",
      "dtypes: float64(6), int64(2), object(3)\n",
      "memory usage: 16.2+ MB\n"
     ]
    }
   ],
   "source": [
    "data.info()"
   ]
  },
  {
   "cell_type": "code",
   "execution_count": 7,
   "metadata": {},
   "outputs": [
    {
     "data": {
      "text/plain": [
       "id           int64\n",
       "carat      float64\n",
       "cut         object\n",
       "color       object\n",
       "clarity     object\n",
       "depth      float64\n",
       "table      float64\n",
       "x          float64\n",
       "y          float64\n",
       "z          float64\n",
       "price        int64\n",
       "dtype: object"
      ]
     },
     "execution_count": 7,
     "metadata": {},
     "output_type": "execute_result"
    }
   ],
   "source": [
    "data.dtypes"
   ]
  },
  {
   "cell_type": "code",
   "execution_count": 8,
   "metadata": {},
   "outputs": [],
   "source": [
    "from pathlib import Path\n",
    "from dataclasses import dataclass\n",
    "\n",
    "@dataclass(frozen=True)\n",
    "class DataValidationConfig: \n",
    "    root_dir: Path\n",
    "    unzip_dir: Path\n",
    "    status_file: Path\n",
    "    all_schema: dict"
   ]
  },
  {
   "cell_type": "code",
   "execution_count": 14,
   "metadata": {},
   "outputs": [],
   "source": [
    "from diamond_price_predication.constant import *\n",
    "from diamond_price_predication.utils.common import read_yaml, create_dicectories\n",
    "from diamond_price_predication import logger"
   ]
  },
  {
   "cell_type": "code",
   "execution_count": 32,
   "metadata": {},
   "outputs": [],
   "source": [
    "class ConfigurationManger:\n",
    "    def __init__(self, \n",
    "                 config_file_path= CONFIG_FILE_PATH, \n",
    "                 params_file_path= PARAMS_FILE_PATH, \n",
    "                 schema_file_path= SCHEMA_FILE_PATH\n",
    "                 ):\n",
    "        \n",
    "        self.config=read_yaml(config_file_path)\n",
    "        self. params=read_yaml(params_file_path)\n",
    "        self.schema=read_yaml(schema_file_path)\n",
    "        \n",
    "        create_dicectories([self.config.artifacts_root])\n",
    "        \n",
    "    def get_validation_config(self)-> DataValidationConfig: \n",
    "        config=self.config.data_validation\n",
    "        schema=self.schema.COLUMNS\n",
    "        \n",
    "        create_dicectories([config.root_dir])\n",
    "        \n",
    "        data_validation_config=DataValidationConfig(\n",
    "            root_dir=config.root_dir,\n",
    "            unzip_dir=config.unzip_data_dir, \n",
    "            status_file=config.STATUS_FILE,\n",
    "            all_schema=schema\n",
    "        )\n",
    "        return data_validation_config"
   ]
  },
  {
   "cell_type": "code",
   "execution_count": 35,
   "metadata": {},
   "outputs": [],
   "source": [
    "class DataValidation: \n",
    "    def __init__(self, config: DataValidationConfig): \n",
    "        self.config=config\n",
    "        \n",
    "        \n",
    "        \n",
    "    def validate_all_columns(self)->bool: \n",
    "        try: \n",
    "            validation_status: None\n",
    "            data=pd.read_csv(self.config.unzip_dir)\n",
    "            all_cols=list(data.columns)\n",
    "            logger.info(f\" Columns: {all_cols}\")\n",
    "            \n",
    "            all_schema=self.config.all_schema.keys()\n",
    "            \n",
    "            logger.info(f\"All schema {all_schema}\")\n",
    "            \n",
    "            for col in all_cols: \n",
    "                if col not in all_schema: \n",
    "                    \n",
    "                    \n",
    "                    validation_status=False\n",
    "                    \n",
    "                    with open(self.config.status_file, 'w') as f: \n",
    "                        f.write(f\"Validation status: {validation_status}\")\n",
    "                    \n",
    "            else: \n",
    "                validation_status=True\n",
    "                with open(self.config.status_file,'w') as f: \n",
    "                    f.write(f\" Validation status: {validation_status}\")\n",
    "                    \n",
    "            return validation_status\n",
    "            \n",
    "            \n",
    "        \n",
    "        except Exception as e: \n",
    "            raise e"
   ]
  },
  {
   "cell_type": "code",
   "execution_count": 36,
   "metadata": {},
   "outputs": [
    {
     "name": "stdout",
     "output_type": "stream",
     "text": [
      "[2023-12-11 17:07:02,679 : INFO: common : Yaml file read config\\config.yaml]\n",
      "[2023-12-11 17:07:02,684 : INFO: common : Yaml file read params.yaml]\n",
      "[2023-12-11 17:07:02,694 : INFO: common : Yaml file read schema.yaml]\n",
      "[2023-12-11 17:07:02,698 : INFO: common : Directories file is creted artifacts]\n",
      "[2023-12-11 17:07:02,701 : INFO: common : Directories file is creted artifacts/data_validation]\n",
      "[2023-12-11 17:07:03,410 : INFO: 214939789 :  Columns: ['id', 'carat', 'cut', 'color', 'clarity', 'depth', 'table', 'x', 'y', 'z', 'price']]\n",
      "[2023-12-11 17:07:03,413 : INFO: 214939789 : All schema dict_keys(['id', 'carat', 'cut', 'color', 'clarity', 'depth', 'table', 'x', 'y', 'z', 'price'])]\n"
     ]
    }
   ],
   "source": [
    "try: \n",
    "    obj=ConfigurationManger()\n",
    "    validationConfig=obj.get_validation_config()\n",
    "    datavalidation=DataValidation(validationConfig)\n",
    "    datavalidation.validate_all_columns()\n",
    "except Exception as e: \n",
    "    raise e"
   ]
  },
  {
   "cell_type": "code",
   "execution_count": null,
   "metadata": {},
   "outputs": [],
   "source": []
  }
 ],
 "metadata": {
  "kernelspec": {
   "display_name": "Python 3",
   "language": "python",
   "name": "python3"
  },
  "language_info": {
   "codemirror_mode": {
    "name": "ipython",
    "version": 3
   },
   "file_extension": ".py",
   "mimetype": "text/x-python",
   "name": "python",
   "nbconvert_exporter": "python",
   "pygments_lexer": "ipython3",
   "version": "3.8.18"
  }
 },
 "nbformat": 4,
 "nbformat_minor": 2
}
