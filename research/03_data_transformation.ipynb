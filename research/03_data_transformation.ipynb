{
 "cells": [
  {
   "cell_type": "code",
   "execution_count": 10,
   "metadata": {},
   "outputs": [],
   "source": [
    "import os"
   ]
  },
  {
   "cell_type": "code",
   "execution_count": 11,
   "metadata": {},
   "outputs": [
    {
     "data": {
      "text/plain": [
       "'c:\\\\TheBritishCollege\\\\DataScience\\\\diamond_price_predication_2\\\\research'"
      ]
     },
     "execution_count": 11,
     "metadata": {},
     "output_type": "execute_result"
    }
   ],
   "source": [
    "os.getcwd()"
   ]
  },
  {
   "cell_type": "code",
   "execution_count": 12,
   "metadata": {},
   "outputs": [],
   "source": [
    "os.chdir(\"../\")"
   ]
  },
  {
   "cell_type": "code",
   "execution_count": 13,
   "metadata": {},
   "outputs": [
    {
     "data": {
      "text/plain": [
       "'c:\\\\TheBritishCollege\\\\DataScience\\\\diamond_price_predication_2'"
      ]
     },
     "execution_count": 13,
     "metadata": {},
     "output_type": "execute_result"
    }
   ],
   "source": [
    "os.getcwd()"
   ]
  },
  {
   "cell_type": "code",
   "execution_count": 1,
   "metadata": {},
   "outputs": [],
   "source": [
    "from dataclasses import dataclass\n",
    "from pathlib import Path\n",
    "\n",
    "@dataclass(frozen=True)\n",
    "class DataTransformationConfig: \n",
    "    root_dir: Path\n",
    "    data_dir: Path    "
   ]
  },
  {
   "cell_type": "code",
   "execution_count": 2,
   "metadata": {},
   "outputs": [],
   "source": [
    "from diamond_price_predication.constant import *\n",
    "from diamond_price_predication.utils.common import read_yaml, create_dicectories\n"
   ]
  },
  {
   "cell_type": "code",
   "execution_count": 31,
   "metadata": {},
   "outputs": [],
   "source": [
    "class ConfigurationManager: \n",
    "    def __init__(self, config_file_path=CONFIG_FILE_PATH, \n",
    "                 params_file_path=PARAMS_FILE_PATH, \n",
    "                 schema_file_path=SCHEMA_FILE_PATH\n",
    "                 ): \n",
    "        self.config=read_yaml(config_file_path)\n",
    "        self.params=read_yaml(params_file_path)\n",
    "        self.schema=read_yaml(schema_file_path)\n",
    "        \n",
    "        create_dicectories([self.config.artifacts_root])\n",
    "        \n",
    "    def get_data_transformation_config(self)-> DataTransformationConfig: \n",
    "        \n",
    "        \n",
    "        config=self.config.data_transformation\n",
    "        create_dicectories([config.root_dir])\n",
    "        \n",
    "        data_transformation_config=DataTransformationConfig(\n",
    "            root_dir=config.root_dir,\n",
    "            data_dir=config.data_dir\n",
    "        )\n",
    "        \n",
    "        return data_transformation_config\n",
    "        "
   ]
  },
  {
   "cell_type": "code",
   "execution_count": 32,
   "metadata": {},
   "outputs": [],
   "source": [
    "import pandas as pd\n",
    "from diamond_price_predication import logger\n",
    "from sklearn.model_selection import train_test_split"
   ]
  },
  {
   "cell_type": "code",
   "execution_count": 33,
   "metadata": {},
   "outputs": [],
   "source": [
    "class DataTransformation: \n",
    "    def __init__(self, config=DataTransformationConfig) -> None:\n",
    "        self.config=config\n",
    "       \n",
    "        \n",
    "    def TrainingTesting_split(self):\n",
    "        data=pd.read_csv(self.config.data_dir)\n",
    "        logger.info(f\"Dataset of diamond predication: {data.head()}\\n\\n\")\n",
    "        \n",
    "        train, test=train_test_split(data)\n",
    "        logger.info(f\"Training data {train.head()}\\n\\n\")\n",
    "        logger.info(f\"Testing data {test.head()}\\n\\n\")\n",
    "        \n",
    "        train.to_csv(os.path.join(self.config.root_dir, \"train.csv\"), index=False)\n",
    "        test.to_csv(os.path.join(self.config.root_dir, \"test.csv\"), index=False)\n",
    "        \n",
    "        logger.info(f\" Training and testing data sucessfully {train.shape, test.shape}\")\n",
    "        \n",
    "          \n",
    "             \n",
    "    \n",
    "    \n"
   ]
  },
  {
   "cell_type": "code",
   "execution_count": 34,
   "metadata": {},
   "outputs": [
    {
     "name": "stdout",
     "output_type": "stream",
     "text": [
      "[2023-12-12 08:27:18,194 : INFO: common : Yaml file read config\\config.yaml]\n",
      "[2023-12-12 08:27:18,199 : INFO: common : Yaml file read params.yaml]\n",
      "[2023-12-12 08:27:18,206 : INFO: common : Yaml file read schema.yaml]\n",
      "[2023-12-12 08:27:18,210 : INFO: common : Directories file is creted artifacts]\n",
      "[2023-12-12 08:27:18,224 : INFO: common : Directories file is creted artifacts/data_transformation]\n"
     ]
    },
    {
     "name": "stdout",
     "output_type": "stream",
     "text": [
      "[2023-12-12 08:27:18,976 : INFO: 3597096813 : Dataset of diamond predication:    id  carat        cut color clarity  depth  table     x     y     z  price\n",
      "0   0   1.52    Premium     F     VS2   62.2   58.0  7.27  7.33  4.55  13619\n",
      "1   1   2.03  Very Good     J     SI2   62.0   58.0  8.06  8.12  5.05  13387\n",
      "2   2   0.70      Ideal     G     VS1   61.2   57.0  5.69  5.73  3.50   2772\n",
      "3   3   0.32      Ideal     G     VS1   61.6   56.0  4.38  4.41  2.71    666\n",
      "4   4   1.70    Premium     G     VS2   62.6   59.0  7.65  7.61  4.77  14453\n",
      "\n",
      "]\n",
      "[2023-12-12 08:27:19,112 : INFO: 3597096813 : Training data             id  carat        cut color clarity  depth  table     x     y  \\\n",
      "90957    90957   1.00  Very Good     F     SI2   63.3   56.0  6.29  6.34   \n",
      "5191      5191   2.03      Ideal     I     VS1   62.9   57.0  8.08  8.03   \n",
      "133861  133861   1.53      Ideal     G    VVS1   60.8   56.0  7.45  7.47   \n",
      "131525  131525   1.05    Premium     H     SI1   62.1   60.0  6.46  6.43   \n",
      "11795    11795   0.90      Ideal     H    VVS2   62.4   56.0  6.16  6.23   \n",
      "\n",
      "           z  price  \n",
      "90957   3.99   3920  \n",
      "5191    5.06  17530  \n",
      "133861  4.53  15014  \n",
      "131525  4.00   5096  \n",
      "11795   3.86   4428  \n",
      "\n",
      "]\n",
      "[2023-12-12 08:27:19,131 : INFO: 3597096813 : Testing data             id  carat        cut color clarity  depth  table     x     y  \\\n",
      "140982  140982   1.01  Very Good     D     SI1   63.4   58.0  6.36  6.32   \n",
      "89334    89334   0.70       Good     F     VS2   63.6   60.0  5.61  5.58   \n",
      "187950  187950   0.54      Ideal     E     SI1   61.3   57.0  5.24  5.28   \n",
      "154986  154986   0.43      Ideal     H    VVS2   61.6   56.0  4.85  4.82   \n",
      "146577  146577   1.00       Good     G     VS2   63.7   59.0  6.28  6.31   \n",
      "\n",
      "           z  price  \n",
      "140982  4.03   6048  \n",
      "89334   3.55   2655  \n",
      "187950  3.23   1354  \n",
      "154986  2.98    983  \n",
      "146577  4.01   5818  \n",
      "\n",
      "]\n",
      "[2023-12-12 08:27:21,746 : INFO: 3597096813 :  Training and testing data sucessfully ((145179, 11), (48394, 11))]\n"
     ]
    }
   ],
   "source": [
    "try: \n",
    "    obj=ConfigurationManager()\n",
    "    transformation_config=obj.get_data_transformation_config()\n",
    "    datatranf=DataTransformation(transformation_config)\n",
    "    datatranf.TrainingTesting_split()\n",
    "except Exception as e: \n",
    "    raise e"
   ]
  },
  {
   "cell_type": "code",
   "execution_count": null,
   "metadata": {},
   "outputs": [],
   "source": []
  }
 ],
 "metadata": {
  "kernelspec": {
   "display_name": "Python 3",
   "language": "python",
   "name": "python3"
  },
  "language_info": {
   "codemirror_mode": {
    "name": "ipython",
    "version": 3
   },
   "file_extension": ".py",
   "mimetype": "text/x-python",
   "name": "python",
   "nbconvert_exporter": "python",
   "pygments_lexer": "ipython3",
   "version": "3.8.18"
  }
 },
 "nbformat": 4,
 "nbformat_minor": 2
}
