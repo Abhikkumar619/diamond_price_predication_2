{
 "cells": [
  {
   "cell_type": "code",
   "execution_count": 1,
   "metadata": {},
   "outputs": [],
   "source": [
    "import os"
   ]
  },
  {
   "cell_type": "code",
   "execution_count": 2,
   "metadata": {},
   "outputs": [],
   "source": [
    "os.chdir(\"../\")"
   ]
  },
  {
   "cell_type": "code",
   "execution_count": 3,
   "metadata": {},
   "outputs": [
    {
     "data": {
      "text/plain": [
       "'c:\\\\TheBritishCollege\\\\DataScience\\\\diamond_price_predication_2'"
      ]
     },
     "execution_count": 3,
     "metadata": {},
     "output_type": "execute_result"
    }
   ],
   "source": [
    "os.getcwd()"
   ]
  },
  {
   "cell_type": "code",
   "execution_count": 14,
   "metadata": {},
   "outputs": [],
   "source": [
    "from dataclasses import dataclass\n",
    "from pathlib import Path\n",
    "\n",
    "@dataclass(frozen=True)\n",
    "class ModelEvaluationConfig: \n",
    "    root_dir: Path\n",
    "    test_data_path: Path\n",
    "    model_: Path\n",
    "    metric_file: Path\n",
    "    all_parmas: dict\n",
    "    target_column: str"
   ]
  },
  {
   "cell_type": "code",
   "execution_count": 29,
   "metadata": {},
   "outputs": [],
   "source": [
    "from diamond_price_predication.constant import *\n",
    "from diamond_price_predication.utils.common import read_yaml, create_dicectories, save_json"
   ]
  },
  {
   "cell_type": "code",
   "execution_count": 20,
   "metadata": {},
   "outputs": [],
   "source": [
    "class ConfigurationManger: \n",
    "    def __init__(self, config_file_path= CONFIG_FILE_PATH,\n",
    "                 params_file_path=PARAMS_FILE_PATH, \n",
    "                 schema_file_path=SCHEMA_FILE_PATH): \n",
    "        self.config=read_yaml(config_file_path)\n",
    "        self.schema=read_yaml(schema_file_path)\n",
    "        self.params=read_yaml(params_file_path)\n",
    "        \n",
    "        \n",
    "        create_dicectories([self.config.artifacts_root])\n",
    "        \n",
    "    def get_model_evaluation_config(self)-> ModelEvaluationConfig: \n",
    "            \n",
    "        config=self.config.model_evaluation\n",
    "        schema=self.schema.TARGET_COLUMN\n",
    "        params=self.params.ElasticNet\n",
    "            \n",
    "        create_dicectories([config.root_dir])\n",
    "            \n",
    "            \n",
    "        model_evaluation_config=ModelEvaluationConfig(\n",
    "            root_dir=config.root_dir, \n",
    "            test_data_path=config.test_data_path, \n",
    "            model_=config.model_path,\n",
    "            metric_file=config.metric_file_path,\n",
    "            all_parmas=params, \n",
    "            target_column=schema.name)\n",
    "        return model_evaluation_config\n",
    "            \n",
    "            \n",
    "            \n",
    "            \n",
    "            "
   ]
  },
  {
   "cell_type": "code",
   "execution_count": 21,
   "metadata": {},
   "outputs": [],
   "source": [
    "from sklearn.metrics import r2_score, mean_squared_error, mean_absolute_error\n",
    "import pandas as pd\n",
    "import numpy as np\n",
    "import joblib\n",
    "from diamond_price_predication import logger"
   ]
  },
  {
   "cell_type": "code",
   "execution_count": 38,
   "metadata": {},
   "outputs": [],
   "source": [
    "class ModelEvaluation: \n",
    "    def __init__(self, config= ModelEvaluationConfig): \n",
    "        self.config=config\n",
    "        \n",
    "        \n",
    "    def Evaluation(self, actual, predicted):\n",
    "        \n",
    "        mse=mean_squared_error(actual , predicted)\n",
    "        rms=np.sqrt(mean_squared_error(actual, predicted))\n",
    "        r2score=r2_score(actual, predicted)\n",
    "        \n",
    "        return mse, rms, r2score \n",
    "    \n",
    "    def save_result(self): \n",
    "        \n",
    "        model= joblib.load(self.config.model_)  \n",
    "        logger.info(f\"model loaded sucessfully: {model}\")\n",
    "        \n",
    "        test_data=pd.read_csv(self.config.test_data_path)\n",
    "        logger.info(f\"Test data sucessfullt {test_data.head()}\")\n",
    "        \n",
    "        x_test=test_data.drop([self.config.target_column], axis=1)\n",
    "        y_test=test_data[[self.config.target_column]]\n",
    "        \n",
    "        y_predict_=model.predict(x_test)\n",
    "        \n",
    "        (mse, rms, r2score)=self.Evaluation(y_test, y_predict_)\n",
    "        \n",
    "        # logger.info(f\"Mean squared error: {mse}, root_mean_error: {rms}, root_mean: {r2score}\")\n",
    "        \n",
    "        \n",
    "        score={\"MSE\": mse, \"RMS\": rms, \"r2score\": r2score}\n",
    "        \n",
    "        save_json(path=Path(self.config.metric_file), data=score)\n",
    "        \n",
    "        logger.info(f\"Metric score saved {score}\")\n",
    "        \n",
    "                \n",
    "        "
   ]
  },
  {
   "cell_type": "code",
   "execution_count": 39,
   "metadata": {},
   "outputs": [
    {
     "name": "stdout",
     "output_type": "stream",
     "text": [
      "[2023-12-13 15:19:41,111 : INFO: common : Yaml file read config\\config.yaml]\n",
      "[2023-12-13 15:19:41,123 : INFO: common : Yaml file read schema.yaml]\n",
      "[2023-12-13 15:19:41,196 : INFO: common : Yaml file read params.yaml]\n",
      "[2023-12-13 15:19:41,201 : INFO: common : Directories file is creted artifacts]\n",
      "[2023-12-13 15:19:41,205 : INFO: common : Directories file is creted artifacts/data_evaluation]\n",
      "[2023-12-13 15:19:41,213 : INFO: 1180672315 : model loaded sucessfully: ElasticNet(alpha=0.1, l1_ratio=0.2)]\n"
     ]
    },
    {
     "name": "stdout",
     "output_type": "stream",
     "text": [
      "[2023-12-13 15:19:41,391 : INFO: 1180672315 : Test data sucessfullt    carat  cut  color  clarity  depth  table     x     y     z  price\n",
      "0   0.33    5      5        5   62.2   55.0  4.43  4.46  2.77    579\n",
      "1   1.04    3      4        5   63.2   56.0  6.47  6.38  4.07   6817\n",
      "2   1.39    5      6        5   60.7   56.0  7.25  7.30  4.42   7929\n",
      "3   0.31    5      3        8   61.9   55.0  4.36  4.39  2.71    914\n",
      "4   0.73    5      2        4   61.1   57.0  5.79  5.84  3.55   2723]\n",
      "[2023-12-13 15:19:41,452 : INFO: common : Json file saved at artifacts\\data_evaluation\\metrics.json]\n",
      "[2023-12-13 15:19:41,476 : INFO: 1180672315 : Metric score saved {'MSE': 2198764.98919526, 'RMS': 1482.8233169178518, 'r2score': 0.8660832290728853}]\n"
     ]
    }
   ],
   "source": [
    "try: \n",
    "    configmanager=ConfigurationManger()\n",
    "    model_evaluation_config=configmanager.get_model_evaluation_config() \n",
    "    modelevaluation=ModelEvaluation(model_evaluation_config)\n",
    "    # modelevaluation.Evaluation()\n",
    "    modelevaluation.save_result()\n",
    "except Exception as e:\n",
    "    raise e"
   ]
  },
  {
   "cell_type": "code",
   "execution_count": null,
   "metadata": {},
   "outputs": [],
   "source": []
  }
 ],
 "metadata": {
  "kernelspec": {
   "display_name": "Python 3",
   "language": "python",
   "name": "python3"
  },
  "language_info": {
   "codemirror_mode": {
    "name": "ipython",
    "version": 3
   },
   "file_extension": ".py",
   "mimetype": "text/x-python",
   "name": "python",
   "nbconvert_exporter": "python",
   "pygments_lexer": "ipython3",
   "version": "3.8.18"
  }
 },
 "nbformat": 4,
 "nbformat_minor": 2
}
