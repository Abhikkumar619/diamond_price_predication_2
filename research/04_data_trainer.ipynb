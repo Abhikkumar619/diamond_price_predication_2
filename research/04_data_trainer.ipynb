{
 "cells": [
  {
   "cell_type": "code",
   "execution_count": 1,
   "metadata": {},
   "outputs": [],
   "source": [
    "import os"
   ]
  },
  {
   "cell_type": "code",
   "execution_count": 2,
   "metadata": {},
   "outputs": [
    {
     "data": {
      "text/plain": [
       "'c:\\\\TheBritishCollege\\\\DataScience\\\\diamond_price_predication_2\\\\research'"
      ]
     },
     "execution_count": 2,
     "metadata": {},
     "output_type": "execute_result"
    }
   ],
   "source": [
    "os.getcwd()"
   ]
  },
  {
   "cell_type": "code",
   "execution_count": 3,
   "metadata": {},
   "outputs": [],
   "source": [
    "os.chdir(\"../\")"
   ]
  },
  {
   "cell_type": "code",
   "execution_count": 4,
   "metadata": {},
   "outputs": [
    {
     "data": {
      "text/plain": [
       "'c:\\\\TheBritishCollege\\\\DataScience\\\\diamond_price_predication_2'"
      ]
     },
     "execution_count": 4,
     "metadata": {},
     "output_type": "execute_result"
    }
   ],
   "source": [
    "os.getcwd()"
   ]
  },
  {
   "cell_type": "code",
   "execution_count": 31,
   "metadata": {},
   "outputs": [],
   "source": [
    "from dataclasses import dataclass\n",
    "from pathlib import Path"
   ]
  },
  {
   "cell_type": "code",
   "execution_count": 32,
   "metadata": {},
   "outputs": [],
   "source": [
    "@dataclass(frozen= True)\n",
    "class DataTrainingConfig: \n",
    "    root_dir: Path\n",
    "    train_data_path: Path\n",
    "    test_data_path: Path\n",
    "    model_name: str\n",
    "    alpha: float\n",
    "    l1_ratio: float\n",
    "    target_column: str\n",
    "    \n",
    "    "
   ]
  },
  {
   "cell_type": "code",
   "execution_count": 33,
   "metadata": {},
   "outputs": [],
   "source": [
    "from diamond_price_predication.constant import *\n",
    "from diamond_price_predication.utils.common import read_yaml, create_dicectories"
   ]
  },
  {
   "cell_type": "code",
   "execution_count": 34,
   "metadata": {},
   "outputs": [],
   "source": [
    "class ConfigurationManger: \n",
    "    def __init__(self, config_file_path=CONFIG_FILE_PATH,\n",
    "                 params_file_path=PARAMS_FILE_PATH,\n",
    "                 schema_file_path= SCHEMA_FILE_PATH): \n",
    "        \n",
    "        self.config=read_yaml(config_file_path)\n",
    "        self.params=read_yaml(params_file_path)\n",
    "        self.schema=read_yaml(schema_file_path)\n",
    "        \n",
    "        create_dicectories([self.config.artifacts_root])\n",
    "        \n",
    "    def get_data_training_Config(self)-> DataTrainingConfig: \n",
    "        \n",
    "        config=self.config.data_trainer\n",
    "        schema=self.schema.TARGET_COLUMN\n",
    "        params=self.params.ElasticNet\n",
    "        \n",
    "        create_dicectories([config.root_dir])\n",
    "        \n",
    "        \n",
    "        datatraing_Config=DataTrainingConfig(\n",
    "            root_dir=config.root_dir,\n",
    "            train_data_path=config.train_data_path,\n",
    "            test_data_path=config.test_data_path,\n",
    "            model_name=config.model_name,\n",
    "            l1_ratio=params.alpha,\n",
    "            alpha=params.l1_ratio,\n",
    "            target_column=schema.name\n",
    "            )\n",
    "        return datatraing_Config"
   ]
  },
  {
   "cell_type": "code",
   "execution_count": 35,
   "metadata": {},
   "outputs": [],
   "source": [
    "import pandas as pd\n",
    "from diamond_price_predication import logger\n",
    "from sklearn.linear_model import ElasticNet\n",
    "import joblib"
   ]
  },
  {
   "cell_type": "code",
   "execution_count": 38,
   "metadata": {},
   "outputs": [],
   "source": [
    "class DataTrainer: \n",
    "    def __init__(self, config=DataTrainingConfig): \n",
    "        self.config=config\n",
    "        \n",
    "    def training(self): \n",
    "        train_data=pd.read_csv(self.config.train_data_path)\n",
    "        test_data=pd.read_csv(self.config.test_data_path)\n",
    "        \n",
    "        x_train=train_data.drop([self.config.target_column], axis=1)\n",
    "        logger.info(f\"x_train data : {x_train.head()}\\n\\n\")\n",
    "        \n",
    "        x_test=test_data.drop([self.config.target_column], axis=1)\n",
    "        logger.info(f\"x_test data {x_test.head()}\\n\\n\")\n",
    "        \n",
    "        y_train=train_data[[self.config.target_column]]\n",
    "        logger.info(f\"y_train data {y_train.head()}\\n\\n\")\n",
    "        \n",
    "        y_test=test_data[[self.config.target_column]]\n",
    "        logger.info(f\"y_test data : {y_test.head()}\\n\\n\")\n",
    "        \n",
    "        lr=ElasticNet(alpha=self.config.alpha, l1_ratio=self.config.l1_ratio)\n",
    "        lr.fit(x_train, y_train)\n",
    "        \n",
    "        joblib.dump(lr, os.path.join(self.config.root_dir, self.config.model_name))\n",
    "        \n",
    "        \n",
    "        \n",
    "        \n",
    "    "
   ]
  },
  {
   "cell_type": "code",
   "execution_count": 39,
   "metadata": {},
   "outputs": [
    {
     "name": "stdout",
     "output_type": "stream",
     "text": [
      "[2023-12-13 08:05:18,932 : INFO: common : Yaml file read config\\config.yaml]\n",
      "[2023-12-13 08:05:18,940 : INFO: common : Yaml file read params.yaml]\n",
      "[2023-12-13 08:05:18,953 : INFO: common : Yaml file read schema.yaml]\n",
      "[2023-12-13 08:05:18,961 : INFO: common : Directories file is creted artifacts]\n",
      "[2023-12-13 08:05:18,966 : INFO: common : Directories file is creted artifacts/data_trainer]\n"
     ]
    },
    {
     "name": "stdout",
     "output_type": "stream",
     "text": [
      "[2023-12-13 08:05:19,667 : INFO: 241704367 : x_train data :    carat  cut  color  clarity  depth  table     x     y     z\n",
      "0   1.51    5      2        3   61.2   58.0  7.38  7.41  4.52\n",
      "1   0.72    4      3        4   60.5   58.0  5.76  5.84  3.51\n",
      "2   0.32    5      2        7   61.8   55.0  4.38  4.40  2.72\n",
      "3   0.23    3      3        6   63.4   58.0  3.89  3.91  2.45\n",
      "4   0.42    5      1        4   62.2   55.0  4.82  4.86  3.01\n",
      "\n",
      "]\n",
      "[2023-12-13 08:05:19,686 : INFO: 241704367 : x_test data    carat  cut  color  clarity  depth  table     x     y     z\n",
      "0   0.33    5      5        5   62.2   55.0  4.43  4.46  2.77\n",
      "1   1.04    3      4        5   63.2   56.0  6.47  6.38  4.07\n",
      "2   1.39    5      6        5   60.7   56.0  7.25  7.30  4.42\n",
      "3   0.31    5      3        8   61.9   55.0  4.36  4.39  2.71\n",
      "4   0.73    5      2        4   61.1   57.0  5.79  5.84  3.55\n",
      "\n",
      "]\n",
      "[2023-12-13 08:05:19,697 : INFO: 241704367 : y_train data    price\n",
      "0  11226\n",
      "1   2979\n",
      "2    866\n",
      "3    482\n",
      "4   1031\n",
      "\n",
      "]\n",
      "[2023-12-13 08:05:19,709 : INFO: 241704367 : y_test data :    price\n",
      "0    579\n",
      "1   6817\n",
      "2   7929\n",
      "3    914\n",
      "4   2723\n",
      "\n",
      "]\n"
     ]
    }
   ],
   "source": [
    "try: \n",
    "    obj=ConfigurationManger()\n",
    "    trainingConfig=obj.get_data_training_Config()\n",
    "    modeltraining= DataTrainer(trainingConfig)\n",
    "    modeltraining.training()\n",
    "except Exception as e: \n",
    "    raise e\n"
   ]
  },
  {
   "cell_type": "markdown",
   "metadata": {},
   "source": []
  }
 ],
 "metadata": {
  "kernelspec": {
   "display_name": "Python 3",
   "language": "python",
   "name": "python3"
  },
  "language_info": {
   "codemirror_mode": {
    "name": "ipython",
    "version": 3
   },
   "file_extension": ".py",
   "mimetype": "text/x-python",
   "name": "python",
   "nbconvert_exporter": "python",
   "pygments_lexer": "ipython3",
   "version": "3.8.18"
  }
 },
 "nbformat": 4,
 "nbformat_minor": 2
}
